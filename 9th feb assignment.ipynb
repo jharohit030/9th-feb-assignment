{
 "cells": [
  {
   "cell_type": "code",
   "execution_count": 2,
   "id": "4f5ab54a-aa77-4449-be98-78aff63025a1",
   "metadata": {},
   "outputs": [],
   "source": [
    "\n",
    "#Question 1:\n",
    "class vehicle:\n",
    "    \n",
    "    def __init__(self, name_of_vehicle, max_speed, average_of_vehicle):\n",
    "        \n",
    "        self.name_of_vehicle = name_of_vehicle\n",
    "        self.max_speed = max_speed\n",
    "        self.average_of_vehicle = average_of_vehicle\n",
    "        \n",
    "    def car_detail(self):\n",
    "         self.name_of_vehicle, self.max_speed, self.average_of_vehicle"
   ]
  },
  {
   "cell_type": "code",
   "execution_count": 4,
   "id": "9da9acf8-68ad-4ebd-9fc4-a886ccf043d9",
   "metadata": {},
   "outputs": [],
   "source": [
    "v = vehicle('suv', 200, 50)"
   ]
  },
  {
   "cell_type": "code",
   "execution_count": 8,
   "id": "f7d36767-cac1-4871-965b-9bcd38a94b70",
   "metadata": {},
   "outputs": [
    {
     "data": {
      "text/plain": [
       "('suv', 200, 50)"
      ]
     },
     "execution_count": 8,
     "metadata": {},
     "output_type": "execute_result"
    }
   ],
   "source": [
    "v.car_detail()\n"
   ]
  },
  {
   "cell_type": "code",
   "execution_count": 15,
   "id": "a1a35a64-b24f-4781-a396-35dc4d0e4368",
   "metadata": {},
   "outputs": [],
   "source": [
    "#Question 2:\n",
    "\n",
    "class vehicle:\n",
    "    \n",
    "    def __init__(self, name_of_vehicle, max_speed, average_of_vehicle):\n",
    "        \n",
    "        self.name_of_vehicle = name_of_vehicle\n",
    "        self.max_speed = max_speed\n",
    "        self.average_of_vehicle = average_of_vehicle\n",
    "        \n",
    "    def car_detail(self):\n",
    "         self.name_of_vehicle, self.max_speed, self.average_of_vehicle\n",
    "            \n",
    "class car(vehicle):\n",
    "    \n",
    "    def seating_capacity(self, capacity):\n",
    "        self.capacity = capacity\n",
    "        return self.name_of_vehicle, self.capacity"
   ]
  },
  {
   "cell_type": "code",
   "execution_count": 16,
   "id": "c23ab29b-a846-4020-8c63-9fa27408dfd5",
   "metadata": {},
   "outputs": [],
   "source": [
    "c = car('suv',200,50)"
   ]
  },
  {
   "cell_type": "code",
   "execution_count": 17,
   "id": "185bf7c8-c5da-41da-83a4-9446a34523b7",
   "metadata": {},
   "outputs": [
    {
     "data": {
      "text/plain": [
       "('suv', 5)"
      ]
     },
     "execution_count": 17,
     "metadata": {},
     "output_type": "execute_result"
    }
   ],
   "source": [
    "c.seating_capacity(5)"
   ]
  },
  {
   "cell_type": "code",
   "execution_count": 20,
   "id": "c7f30a74-716c-4a6f-b195-4d15d6c17554",
   "metadata": {},
   "outputs": [
    {
     "name": "stdout",
     "output_type": "stream",
     "text": [
      "In Class2\n"
     ]
    }
   ],
   "source": [
    "#Question 3:\n",
    "\n",
    " When a class is derived from more than one base class it is called multiple Inheritance. The derived class inherits all the features of the base case.\n",
    " \n",
    "class Class1:\n",
    "    def meth(self):\n",
    "        print(\"In Class1\")\n",
    "       \n",
    "class Class2(Class1):\n",
    "    def meth(self):\n",
    "        print(\"In Class2\")\n",
    " \n",
    "class Class3(Class1):\n",
    "    def meth(self):\n",
    "        print(\"In Class3\") \n",
    "        \n",
    "class Class4(Class2, Class3):\n",
    "    pass  \n",
    "     \n",
    "obj = Class4()\n",
    "obj.meth()\n"
   ]
  },
  {
   "cell_type": "code",
   "execution_count": 22,
   "id": "811114df-57e0-4e07-a155-7d1e7c242c3a",
   "metadata": {},
   "outputs": [
    {
     "name": "stdout",
     "output_type": "stream",
     "text": [
      "setter method called\n",
      "getter method called\n",
      "10\n"
     ]
    }
   ],
   "source": [
    "#Question 4:\n",
    "\n",
    " In Python property()is a built-in function that creates and returns a property object. A property object have method, getter(), setter(). property() function in Python has  arguments property(fget, fset), fget is a function for retrieving an attribute value. fset is a function for setting an attribute value. A property object have method, getter(), setter() to specify fget, fset individually.\n",
    "\n",
    "class pwskills:\n",
    "     def __init__(self):\n",
    "          self._age = 0\n",
    "       \n",
    "     # function to get value of _age\n",
    "     def get_age(self):\n",
    "         print(\"getter method called\")\n",
    "         return self._age\n",
    "       \n",
    "     # function to set value of _age\n",
    "     def set_age(self, a):\n",
    "         print(\"setter method called\")\n",
    "         self._age = a\n",
    "     \n",
    "     age = property(get_age, set_age) \n",
    "  \n",
    "mark = pwskills()\n",
    "  \n",
    "mark.age = 10\n",
    "  \n",
    "print(mark.age)"
   ]
  },
  {
   "cell_type": "code",
   "execution_count": 23,
   "id": "e68be139-efe0-4974-903d-a4bb512d92aa",
   "metadata": {},
   "outputs": [
    {
     "name": "stdout",
     "output_type": "stream",
     "text": [
      "I have 4 sides. I am from Square class\n",
      "I am a 2D object. I am from shape class\n",
      "I have teal color. I am from Square class.\n"
     ]
    }
   ],
   "source": [
    "#Question 5:\n",
    "\n",
    " Method overriding is an ability of any object-oriented programming language that allows a subclass or child class to provide a specific implementation of a method that is already provided by one of its super-classes or parent classes. When a method in a subclass has the same name, same parameters or signature and same return type(or sub-type) as a method in its super-class, then the method in the subclass is said to override the method in the super-class.\n",
    "\n",
    "class Shape:\n",
    "    # properties \n",
    "    data1 = \"abc\"\n",
    "\n",
    "    # function no_of_sides \n",
    "    def no_of_sides(self):\n",
    "        print(\"My sides need to be defined. I am from shape class.\")\n",
    "\n",
    "    # function two_dimensional \n",
    "    def two_dimensional(self):\n",
    "        print(\"I am a 2D object. I am from shape class\")\n",
    "        \n",
    "class Square (Shape):\n",
    "    data2 = \"XYZ\"\n",
    "\n",
    "    def no_of_sides (self):\n",
    "        print(\"I have 4 sides. I am from Square class\")\n",
    "\n",
    "    def color(self):\n",
    "        print(\"I have teal color. I am from Square class.\")\n",
    "\n",
    "sq = Square() \n",
    "sq.no_of_sides() \n",
    "sq.two_dimensional() \n",
    "sq.color()\n"
   ]
  },
  {
   "cell_type": "code",
   "execution_count": null,
   "id": "4342c6a0-b46e-47cf-8fa7-6d9650f0931a",
   "metadata": {},
   "outputs": [],
   "source": []
  }
 ],
 "metadata": {
  "kernelspec": {
   "display_name": "Python 3 (ipykernel)",
   "language": "python",
   "name": "python3"
  },
  "language_info": {
   "codemirror_mode": {
    "name": "ipython",
    "version": 3
   },
   "file_extension": ".py",
   "mimetype": "text/x-python",
   "name": "python",
   "nbconvert_exporter": "python",
   "pygments_lexer": "ipython3",
   "version": "3.10.8"
  }
 },
 "nbformat": 4,
 "nbformat_minor": 5
}
